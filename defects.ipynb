{
 "cells": [
  {
   "cell_type": "code",
   "execution_count": 1,
   "id": "ca43284b-7395-4aed-9254-f307d76670be",
   "metadata": {},
   "outputs": [
    {
     "data": {
      "application/vnd.jupyter.widget-view+json": {
       "model_id": "bbf5cdb4b4c545778d72e38c9b13231d",
       "version_major": 2,
       "version_minor": 0
      },
      "text/plain": []
     },
     "metadata": {},
     "output_type": "display_data"
    }
   ],
   "source": [
    "from pyiron_atomistics import Project, pyiron_to_ase"
   ]
  },
  {
   "cell_type": "code",
   "execution_count": 2,
   "id": "dfad3361-4fde-471d-959b-377cdd7bd70c",
   "metadata": {},
   "outputs": [
    {
     "data": {
      "application/vnd.jupyter.widget-view+json": {
       "model_id": "a32cef24de7f4393b96fdc504e61b6fb",
       "version_major": 2,
       "version_minor": 0
      },
      "text/plain": [
       "0it [00:00, ?it/s]"
      ]
     },
     "metadata": {},
     "output_type": "display_data"
    }
   ],
   "source": [
    "pr = Project(\"bulk_energy\")\n",
    "pr.remove_jobs(recursive=True, silently=True)"
   ]
  },
  {
   "cell_type": "markdown",
   "id": "dc028cde-07cf-48af-9f71-b52940f25de6",
   "metadata": {},
   "source": [
    "# Bulk"
   ]
  },
  {
   "cell_type": "code",
   "execution_count": 3,
   "id": "5e939475-b84d-49f8-b89c-5ce2d2bd4c62",
   "metadata": {},
   "outputs": [
    {
     "data": {
      "text/plain": [
       "16"
      ]
     },
     "execution_count": 3,
     "metadata": {},
     "output_type": "execute_result"
    }
   ],
   "source": [
    "structure_Al_small = pr.create.structure.ase.bulk(\"Al\", a=4.056, cubic=True).repeat([2,2,1])\n",
    "len(structure_Al_small)"
   ]
  },
  {
   "cell_type": "code",
   "execution_count": 4,
   "id": "2f35fe7b-950d-4d21-8de8-4fd95c56d552",
   "metadata": {},
   "outputs": [
    {
     "name": "stdout",
     "output_type": "stream",
     "text": [
      "The job spx_Al_small was saved and received the ID: 1488\n"
     ]
    }
   ],
   "source": [
    "job_Al_small = pr.create.job.Sphinx(\"spx_Al_small\")\n",
    "job_Al_small.structure = structure_Al_small\n",
    "job_Al_small.set_kpoints([4,4,8])\n",
    "job_Al_small.set_encut(600.0)\n",
    "job_Al_small.server.cores = 1\n",
    "job_Al_small.run()"
   ]
  },
  {
   "cell_type": "code",
   "execution_count": 5,
   "id": "b7a6df46-cc1c-4ff5-84bf-edb62932a521",
   "metadata": {},
   "outputs": [
    {
     "data": {
      "text/plain": [
       "32"
      ]
     },
     "execution_count": 5,
     "metadata": {},
     "output_type": "execute_result"
    }
   ],
   "source": [
    "structure_Al_big = pr.create.structure.ase.bulk(\"Al\", a=4.056, cubic=True).repeat([2,2,2])\n",
    "len(structure_Al_big)"
   ]
  },
  {
   "cell_type": "code",
   "execution_count": 6,
   "id": "b3bf5ae3-4f31-4fad-8c73-ba5dff37e961",
   "metadata": {},
   "outputs": [
    {
     "name": "stdout",
     "output_type": "stream",
     "text": [
      "The job spx_Al_big was saved and received the ID: 1489\n"
     ]
    }
   ],
   "source": [
    "job_Al_big = pr.create.job.Sphinx(\"spx_Al_big\")\n",
    "job_Al_big.structure = structure_Al_big\n",
    "job_Al_big.set_kpoints([4,4,4])\n",
    "job_Al_big.set_encut(600.0)\n",
    "job_Al_big.server.cores = 1\n",
    "job_Al_big.run()"
   ]
  },
  {
   "cell_type": "markdown",
   "id": "3f4e71eb-aeeb-4e0b-b391-65c98b2e96aa",
   "metadata": {},
   "source": [
    "# Vacancy"
   ]
  },
  {
   "cell_type": "code",
   "execution_count": 7,
   "id": "0b16259c-84c0-44e1-975d-e0137c819c85",
   "metadata": {},
   "outputs": [],
   "source": [
    "structure_Al_small_vac = structure_Al_small.copy()\n",
    "del structure_Al_small_vac[-1]"
   ]
  },
  {
   "cell_type": "code",
   "execution_count": 8,
   "id": "c9be9118-3c0e-4123-8b74-d742ab754980",
   "metadata": {},
   "outputs": [
    {
     "name": "stdout",
     "output_type": "stream",
     "text": [
      "The job spx_Al_small_vac was saved and received the ID: 1490\n"
     ]
    }
   ],
   "source": [
    "job_Al_small_vac = pr.create.job.Sphinx(\"spx_Al_small_vac\")\n",
    "job_Al_small_vac.structure = structure_Al_small_vac\n",
    "job_Al_small_vac.set_kpoints([4,4,8])\n",
    "job_Al_small_vac.set_encut(600.0)\n",
    "job_Al_small_vac.server.cores = 1\n",
    "job_Al_small_vac.run()"
   ]
  },
  {
   "cell_type": "code",
   "execution_count": 9,
   "id": "360cb231-994e-421c-8f69-85469af2701f",
   "metadata": {},
   "outputs": [],
   "source": [
    "structure_Al_big_vac = structure_Al_big.copy()\n",
    "del structure_Al_big_vac[-1]"
   ]
  },
  {
   "cell_type": "code",
   "execution_count": 10,
   "id": "f0f0fbb6-45c2-4d1f-bf17-a57d5018a5cc",
   "metadata": {},
   "outputs": [
    {
     "name": "stdout",
     "output_type": "stream",
     "text": [
      "The job spx_Al_big_vac was saved and received the ID: 1491\n"
     ]
    }
   ],
   "source": [
    "job_Al_big_vac = pr.create.job.Sphinx(\"spx_Al_big_vac\")\n",
    "job_Al_big_vac.structure = structure_Al_big_vac\n",
    "job_Al_big_vac.set_kpoints([4,4,4])\n",
    "job_Al_big_vac.set_encut(600.0)\n",
    "job_Al_big_vac.server.cores = 1\n",
    "job_Al_big_vac.run()"
   ]
  },
  {
   "cell_type": "markdown",
   "id": "64526a4f-ff37-4952-8b7f-44650ee2fc9d",
   "metadata": {},
   "source": [
    "# Defect"
   ]
  },
  {
   "cell_type": "code",
   "execution_count": 11,
   "id": "f63d8f16-f4d1-4dbe-bb75-35a246152f77",
   "metadata": {},
   "outputs": [],
   "source": [
    "structure_Al_small_defect = structure_Al_small.copy()\n",
    "structure_Al_small_defect[-1] = \"Li\""
   ]
  },
  {
   "cell_type": "code",
   "execution_count": 12,
   "id": "20c8d552-1572-4fe2-80bd-936b171fcf2c",
   "metadata": {},
   "outputs": [
    {
     "name": "stdout",
     "output_type": "stream",
     "text": [
      "The job spx_Al_small_defect was saved and received the ID: 1492\n"
     ]
    }
   ],
   "source": [
    "job_Al_small_defect = pr.create.job.Sphinx(\"spx_Al_small_defect\")\n",
    "job_Al_small_defect.structure = structure_Al_small_defect\n",
    "job_Al_small_defect.set_kpoints([4,4,8])\n",
    "job_Al_small_defect.set_encut(600.0)\n",
    "job_Al_small_defect.server.cores = 1\n",
    "job_Al_small_defect.run()"
   ]
  },
  {
   "cell_type": "code",
   "execution_count": 13,
   "id": "b4a6f420-0bbe-4400-926a-5a6c38f6b271",
   "metadata": {},
   "outputs": [],
   "source": [
    "structure_Al_big_defect = structure_Al_big.copy()\n",
    "structure_Al_big_defect[-1] = \"Li\""
   ]
  },
  {
   "cell_type": "code",
   "execution_count": 15,
   "id": "8c7bdd7b-590a-4778-9247-460ffc8d9cde",
   "metadata": {},
   "outputs": [
    {
     "name": "stdout",
     "output_type": "stream",
     "text": [
      "The job spx_Al_big_defect was saved and received the ID: 1493\n"
     ]
    }
   ],
   "source": [
    "job_Al_big_defect = pr.create.job.Sphinx(\"spx_Al_big_defect\")\n",
    "job_Al_big_defect.structure = structure_Al_big_defect\n",
    "job_Al_big_defect.set_kpoints([4,4,4])\n",
    "job_Al_big_defect.set_encut(600.0)\n",
    "job_Al_big_defect.server.cores = 1\n",
    "job_Al_big_defect.run()"
   ]
  },
  {
   "cell_type": "markdown",
   "id": "92c6130b-1e12-44f8-b4d3-3f3172812dea",
   "metadata": {},
   "source": [
    "# Summary"
   ]
  },
  {
   "cell_type": "code",
   "execution_count": 24,
   "id": "d276433b-dbeb-44aa-8548-1ce27513ce69",
   "metadata": {},
   "outputs": [],
   "source": [
    "def get_energy(job):\n",
    "    return job.output.generic.energy_tot[-1]"
   ]
  },
  {
   "cell_type": "code",
   "execution_count": 32,
   "id": "e02a7b8f-2597-4692-9e35-539b1e61d836",
   "metadata": {},
   "outputs": [],
   "source": [
    "def get_Al_atoms(job):\n",
    "    return sum(job.structure.get_chemical_symbols()==\"Al\")"
   ]
  },
  {
   "cell_type": "code",
   "execution_count": 33,
   "id": "c9954fdf-4d3e-4a9d-b1c9-c95a6aef6152",
   "metadata": {},
   "outputs": [],
   "source": [
    "def get_Li_atoms(job):\n",
    "    return sum(job.structure.get_chemical_symbols()==\"Li\")"
   ]
  },
  {
   "cell_type": "code",
   "execution_count": 34,
   "id": "4db78ab4-e783-4981-a21e-c0b3f22490ee",
   "metadata": {},
   "outputs": [
    {
     "name": "stdout",
     "output_type": "stream",
     "text": [
      "The job table was saved and received the ID: 1498\n"
     ]
    },
    {
     "data": {
      "application/vnd.jupyter.widget-view+json": {
       "model_id": "45be605b8b234d4d95e38c48f839d65f",
       "version_major": 2,
       "version_minor": 0
      },
      "text/plain": [
       "Loading and filtering jobs:   0%|          | 0/7 [00:00<?, ?it/s]"
      ]
     },
     "metadata": {},
     "output_type": "display_data"
    },
    {
     "data": {
      "application/vnd.jupyter.widget-view+json": {
       "model_id": "98c67236ba9b435897c368954b411602",
       "version_major": 2,
       "version_minor": 0
      },
      "text/plain": [
       "  0%|          | 0/6 [00:00<?, ?it/s]"
      ]
     },
     "metadata": {},
     "output_type": "display_data"
    },
    {
     "name": "stderr",
     "output_type": "stream",
     "text": [
      "/home/janssen/mambaforge/lib/python3.12/site-packages/pyiron_base/interfaces/lockable.py:59: LockedWarning: __setitem__ called on <class 'pyiron_atomistics.sphinx.input_writer.Group'>, but object is locked!\n",
      "  warnings.warn(\n"
     ]
    }
   ],
   "source": [
    "table = pr.create.table()\n",
    "table.add[\"Al\"] = get_Al_atoms\n",
    "table.add[\"Li\"] = get_Li_atoms\n",
    "table.add[\"energy\"] = get_energy\n",
    "table.convert_to_object = True\n",
    "table.run(delete_existing_job=True)"
   ]
  },
  {
   "cell_type": "code",
   "execution_count": 35,
   "id": "b58d8b52-b1ee-48e3-9115-755e155aefaa",
   "metadata": {},
   "outputs": [
    {
     "data": {
      "text/html": [
       "<div>\n",
       "<style scoped>\n",
       "    .dataframe tbody tr th:only-of-type {\n",
       "        vertical-align: middle;\n",
       "    }\n",
       "\n",
       "    .dataframe tbody tr th {\n",
       "        vertical-align: top;\n",
       "    }\n",
       "\n",
       "    .dataframe thead th {\n",
       "        text-align: right;\n",
       "    }\n",
       "</style>\n",
       "<table border=\"1\" class=\"dataframe\">\n",
       "  <thead>\n",
       "    <tr style=\"text-align: right;\">\n",
       "      <th></th>\n",
       "      <th>job_id</th>\n",
       "      <th>Al</th>\n",
       "      <th>Li</th>\n",
       "      <th>energy</th>\n",
       "    </tr>\n",
       "  </thead>\n",
       "  <tbody>\n",
       "    <tr>\n",
       "      <th>0</th>\n",
       "      <td>1488</td>\n",
       "      <td>16</td>\n",
       "      <td>0</td>\n",
       "      <td>-916.053910</td>\n",
       "    </tr>\n",
       "    <tr>\n",
       "      <th>1</th>\n",
       "      <td>1489</td>\n",
       "      <td>32</td>\n",
       "      <td>0</td>\n",
       "      <td>-1832.107820</td>\n",
       "    </tr>\n",
       "    <tr>\n",
       "      <th>2</th>\n",
       "      <td>1490</td>\n",
       "      <td>15</td>\n",
       "      <td>0</td>\n",
       "      <td>-858.065149</td>\n",
       "    </tr>\n",
       "    <tr>\n",
       "      <th>3</th>\n",
       "      <td>1491</td>\n",
       "      <td>31</td>\n",
       "      <td>0</td>\n",
       "      <td>-1774.161525</td>\n",
       "    </tr>\n",
       "    <tr>\n",
       "      <th>4</th>\n",
       "      <td>1492</td>\n",
       "      <td>15</td>\n",
       "      <td>1</td>\n",
       "      <td>-1063.829318</td>\n",
       "    </tr>\n",
       "    <tr>\n",
       "      <th>5</th>\n",
       "      <td>1493</td>\n",
       "      <td>31</td>\n",
       "      <td>1</td>\n",
       "      <td>-1979.836356</td>\n",
       "    </tr>\n",
       "  </tbody>\n",
       "</table>\n",
       "</div>"
      ],
      "text/plain": [
       "   job_id  Al  Li       energy\n",
       "0    1488  16   0  -916.053910\n",
       "1    1489  32   0 -1832.107820\n",
       "2    1490  15   0  -858.065149\n",
       "3    1491  31   0 -1774.161525\n",
       "4    1492  15   1 -1063.829318\n",
       "5    1493  31   1 -1979.836356"
      ]
     },
     "execution_count": 35,
     "metadata": {},
     "output_type": "execute_result"
    }
   ],
   "source": [
    "df = table.get_dataframe()\n",
    "df"
   ]
  },
  {
   "cell_type": "code",
   "execution_count": null,
   "id": "6d3b2f41-02e6-43ce-af67-a0f5e9f9c6af",
   "metadata": {},
   "outputs": [],
   "source": []
  }
 ],
 "metadata": {
  "kernelspec": {
   "display_name": "Python 3 (ipykernel)",
   "language": "python",
   "name": "python3"
  },
  "language_info": {
   "codemirror_mode": {
    "name": "ipython",
    "version": 3
   },
   "file_extension": ".py",
   "mimetype": "text/x-python",
   "name": "python",
   "nbconvert_exporter": "python",
   "pygments_lexer": "ipython3",
   "version": "3.12.5"
  }
 },
 "nbformat": 4,
 "nbformat_minor": 5
}
