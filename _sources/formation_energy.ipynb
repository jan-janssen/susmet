{
 "cells": [
  {
   "cell_type": "code",
   "execution_count": 1,
   "id": "ca43284b-7395-4aed-9254-f307d76670be",
   "metadata": {},
   "outputs": [
    {
     "data": {
      "application/vnd.jupyter.widget-view+json": {
       "model_id": "2ce0f6e41c8a4e1c91bea71915423c5f",
       "version_major": 2,
       "version_minor": 0
      },
      "text/plain": []
     },
     "metadata": {},
     "output_type": "display_data"
    }
   ],
   "source": [
    "from pyiron_atomistics import Project, pyiron_to_ase"
   ]
  },
  {
   "cell_type": "code",
   "execution_count": 2,
   "id": "dfad3361-4fde-471d-959b-377cdd7bd70c",
   "metadata": {},
   "outputs": [
    {
     "data": {
      "application/vnd.jupyter.widget-view+json": {
       "model_id": "71c9236c821045eab631ba01e7033069",
       "version_major": 2,
       "version_minor": 0
      },
      "text/plain": [
       "0it [00:00, ?it/s]"
      ]
     },
     "metadata": {},
     "output_type": "display_data"
    }
   ],
   "source": [
    "pr = Project(\"formation_energy\")\n",
    "pr.remove_jobs(recursive=True, silently=True)"
   ]
  },
  {
   "cell_type": "markdown",
   "id": "07397efc-f23b-44b3-a48c-371b07735661",
   "metadata": {},
   "source": [
    "https://next-gen.materialsproject.org/materials/mp-1067"
   ]
  },
  {
   "cell_type": "markdown",
   "id": "aa31e44b-6d36-4c50-af4c-9b4555d897c2",
   "metadata": {},
   "source": [
    "# Al-Li Phase "
   ]
  },
  {
   "cell_type": "code",
   "execution_count": 3,
   "id": "b9ca7684-f6b7-4273-afec-f5d917ce1e60",
   "metadata": {},
   "outputs": [
    {
     "data": {
      "application/vnd.jupyter.widget-view+json": {
       "model_id": "1ffc7db1c2f64b998e11179718326df2",
       "version_major": 2,
       "version_minor": 0
      },
      "text/plain": [
       "Retrieving MaterialsDoc documents:   0%|          | 0/1 [00:00<?, ?it/s]"
      ]
     },
     "metadata": {},
     "output_type": "display_data"
    },
    {
     "data": {
      "text/plain": [
       "4"
      ]
     },
     "execution_count": 3,
     "metadata": {},
     "output_type": "execute_result"
    }
   ],
   "source": [
    "structure_AlLi = pr.create.structure.materialsproject.by_id(\"mp-1067\")\n",
    "pyiron_to_ase(structure_AlLi).write(\"LiAl_poscar\", format=\"vasp\")\n",
    "len(structure_AlLi)"
   ]
  },
  {
   "cell_type": "code",
   "execution_count": 4,
   "id": "ff79e419-7dd1-4327-9e31-47e3f4a8212d",
   "metadata": {},
   "outputs": [
    {
     "data": {
      "text/plain": [
       "4"
      ]
     },
     "execution_count": 4,
     "metadata": {},
     "output_type": "execute_result"
    }
   ],
   "source": [
    "structure_AlLi = pr.create.structure.ase.read(\"LiAl_poscar\", format=\"vasp\")\n",
    "len(structure_AlLi)"
   ]
  },
  {
   "cell_type": "code",
   "execution_count": 5,
   "id": "494a58cb-59da-44bb-b149-97ab46185d25",
   "metadata": {},
   "outputs": [],
   "source": [
    "job_AlLi = pr.create.job.Sphinx(\"spx_AlLi\")\n",
    "job_AlLi.structure = structure_AlLi\n",
    "job_AlLi.set_kpoints([4,4,4])\n",
    "job_AlLi.set_encut(600.0)\n",
    "job_AlLi.server.cores = 1"
   ]
  },
  {
   "cell_type": "code",
   "execution_count": 6,
   "id": "67e80206-ab9b-4884-90fb-4ebb6710e136",
   "metadata": {},
   "outputs": [
    {
     "name": "stdout",
     "output_type": "stream",
     "text": [
      "The job murn_AlLi was saved and received the ID: 1451\n",
      "The job murn_AlLi_0_9 was saved and received the ID: 1452\n",
      "The job murn_AlLi_0_92 was saved and received the ID: 1453\n",
      "The job murn_AlLi_0_94 was saved and received the ID: 1454\n",
      "The job murn_AlLi_0_96 was saved and received the ID: 1455\n",
      "The job murn_AlLi_0_98 was saved and received the ID: 1456\n",
      "The job murn_AlLi_1_0 was saved and received the ID: 1457\n",
      "The job murn_AlLi_1_02 was saved and received the ID: 1458\n",
      "The job murn_AlLi_1_04 was saved and received the ID: 1459\n",
      "The job murn_AlLi_1_06 was saved and received the ID: 1460\n",
      "The job murn_AlLi_1_08 was saved and received the ID: 1461\n",
      "The job murn_AlLi_1_1 was saved and received the ID: 1462\n"
     ]
    }
   ],
   "source": [
    "murn_AlLi = pr.create.job.Murnaghan(\"murn_AlLi\")\n",
    "murn_AlLi.ref_job = job_AlLi\n",
    "murn_AlLi.run()"
   ]
  },
  {
   "cell_type": "markdown",
   "id": "7ede9b1b-c204-4fee-9ca1-e102ebe4d522",
   "metadata": {},
   "source": [
    "# Al Endmember"
   ]
  },
  {
   "cell_type": "code",
   "execution_count": 7,
   "id": "5e939475-b84d-49f8-b89c-5ce2d2bd4c62",
   "metadata": {},
   "outputs": [
    {
     "data": {
      "text/plain": [
       "4"
      ]
     },
     "execution_count": 7,
     "metadata": {},
     "output_type": "execute_result"
    }
   ],
   "source": [
    "structure_Al = pr.create.structure.ase.bulk(\"Al\", cubic=True)\n",
    "len(structure_Al)"
   ]
  },
  {
   "cell_type": "code",
   "execution_count": 8,
   "id": "2f35fe7b-950d-4d21-8de8-4fd95c56d552",
   "metadata": {},
   "outputs": [],
   "source": [
    "job_Al = pr.create.job.Sphinx(\"spx_Al\")\n",
    "job_Al.structure = structure_Al\n",
    "job_Al.set_kpoints([4,4,4])\n",
    "job_Al.set_encut(600.0)\n",
    "job_Al.server.cores = 1"
   ]
  },
  {
   "cell_type": "code",
   "execution_count": 9,
   "id": "4ee827c9-1077-45ff-af05-e799a960d754",
   "metadata": {},
   "outputs": [
    {
     "name": "stdout",
     "output_type": "stream",
     "text": [
      "The job murn_Al was saved and received the ID: 1463\n",
      "The job murn_Al_0_9 was saved and received the ID: 1464\n",
      "The job murn_Al_0_92 was saved and received the ID: 1465\n",
      "The job murn_Al_0_94 was saved and received the ID: 1466\n",
      "The job murn_Al_0_96 was saved and received the ID: 1467\n",
      "The job murn_Al_0_98 was saved and received the ID: 1468\n",
      "The job murn_Al_1_0 was saved and received the ID: 1469\n",
      "The job murn_Al_1_02 was saved and received the ID: 1470\n",
      "The job murn_Al_1_04 was saved and received the ID: 1471\n",
      "The job murn_Al_1_06 was saved and received the ID: 1472\n",
      "The job murn_Al_1_08 was saved and received the ID: 1473\n",
      "The job murn_Al_1_1 was saved and received the ID: 1474\n"
     ]
    }
   ],
   "source": [
    "murn_Al = pr.create.job.Murnaghan(\"murn_Al\")\n",
    "murn_Al.ref_job = job_Al\n",
    "murn_Al.run()"
   ]
  },
  {
   "cell_type": "markdown",
   "id": "9c760827-0b71-40ad-85ce-25316bea9f3c",
   "metadata": {},
   "source": [
    "# Li Endmember"
   ]
  },
  {
   "cell_type": "code",
   "execution_count": 10,
   "id": "aa632c31-90d4-4537-96de-112fc0fcf624",
   "metadata": {},
   "outputs": [
    {
     "data": {
      "text/plain": [
       "16"
      ]
     },
     "execution_count": 10,
     "metadata": {},
     "output_type": "execute_result"
    }
   ],
   "source": [
    "structure_Li = pr.create.structure.ase.bulk(\"Li\", cubic=True).repeat([2,2,2])\n",
    "len(structure_Li)"
   ]
  },
  {
   "cell_type": "code",
   "execution_count": 11,
   "id": "db8e18a6-19a7-4229-be94-94545869e2c5",
   "metadata": {},
   "outputs": [],
   "source": [
    "job_Li = pr.create.job.Sphinx(\"spx_Li\")\n",
    "job_Li.structure = structure_Li\n",
    "job_Li.set_kpoints([4,4,4])\n",
    "job_Li.set_encut(600.0)\n",
    "job_Li.server.cores = 1"
   ]
  },
  {
   "cell_type": "code",
   "execution_count": 12,
   "id": "2d0aa3fc-e07f-4736-a43a-5918bfbf165d",
   "metadata": {},
   "outputs": [
    {
     "name": "stdout",
     "output_type": "stream",
     "text": [
      "The job murn_Li was saved and received the ID: 1475\n",
      "The job murn_Li_0_9 was saved and received the ID: 1476\n",
      "The job murn_Li_0_92 was saved and received the ID: 1477\n",
      "The job murn_Li_0_94 was saved and received the ID: 1478\n",
      "The job murn_Li_0_96 was saved and received the ID: 1479\n",
      "The job murn_Li_0_98 was saved and received the ID: 1480\n",
      "The job murn_Li_1_0 was saved and received the ID: 1481\n",
      "The job murn_Li_1_02 was saved and received the ID: 1482\n",
      "The job murn_Li_1_04 was saved and received the ID: 1483\n",
      "The job murn_Li_1_06 was saved and received the ID: 1484\n",
      "The job murn_Li_1_08 was saved and received the ID: 1485\n",
      "The job murn_Li_1_1 was saved and received the ID: 1486\n"
     ]
    }
   ],
   "source": [
    "murn_Li = pr.create.job.Murnaghan(\"murn_Li\")\n",
    "murn_Li.ref_job = job_Li\n",
    "murn_Li.run()"
   ]
  },
  {
   "cell_type": "markdown",
   "id": "17c1f30b-82f1-4020-b8bb-eeeafe6f2bae",
   "metadata": {},
   "source": [
    "# Collect Results"
   ]
  },
  {
   "cell_type": "code",
   "execution_count": 31,
   "id": "b7a6df46-cc1c-4ff5-84bf-edb62932a521",
   "metadata": {},
   "outputs": [],
   "source": [
    "def filter_funct(job):\n",
    "    return len(job.job_name.split(\"_\")) == 2"
   ]
  },
  {
   "cell_type": "code",
   "execution_count": 36,
   "id": "91e58368-c30d-4c3c-a1a2-fb81155d8017",
   "metadata": {},
   "outputs": [],
   "source": [
    "def get_element(job):\n",
    "    return job.job_name.split(\"_\")[1]"
   ]
  },
  {
   "cell_type": "code",
   "execution_count": 25,
   "id": "519b4b29-4aa7-4fd7-88ca-7ac9f646422b",
   "metadata": {},
   "outputs": [],
   "source": [
    "def get_energy(job):\n",
    "    return job.content[\"output/equilibrium_energy\"] / len(job.structure)"
   ]
  },
  {
   "cell_type": "code",
   "execution_count": 26,
   "id": "e8ae4e4e-2263-4508-8fa0-04be3fec7f56",
   "metadata": {},
   "outputs": [],
   "source": [
    "def get_volume(job):\n",
    "    return job.content[\"output/equilibrium_volume\"] / len(job.structure)"
   ]
  },
  {
   "cell_type": "code",
   "execution_count": 39,
   "id": "42f927a6-0cca-4132-803f-ac94dbe530d6",
   "metadata": {},
   "outputs": [
    {
     "data": {
      "text/html": [
       "<div>\n",
       "<style scoped>\n",
       "    .dataframe tbody tr th:only-of-type {\n",
       "        vertical-align: middle;\n",
       "    }\n",
       "\n",
       "    .dataframe tbody tr th {\n",
       "        vertical-align: top;\n",
       "    }\n",
       "\n",
       "    .dataframe thead th {\n",
       "        text-align: right;\n",
       "    }\n",
       "</style>\n",
       "<table border=\"1\" class=\"dataframe\">\n",
       "  <thead>\n",
       "    <tr style=\"text-align: right;\">\n",
       "      <th></th>\n",
       "      <th>job_id</th>\n",
       "      <th>name</th>\n",
       "      <th>energy</th>\n",
       "      <th>volume</th>\n",
       "    </tr>\n",
       "  </thead>\n",
       "  <tbody>\n",
       "    <tr>\n",
       "      <th>0</th>\n",
       "      <td>1451</td>\n",
       "      <td>AlLi</td>\n",
       "      <td>-131.172432</td>\n",
       "      <td>16.118247</td>\n",
       "    </tr>\n",
       "    <tr>\n",
       "      <th>1</th>\n",
       "      <td>1463</td>\n",
       "      <td>Al</td>\n",
       "      <td>-57.200850</td>\n",
       "      <td>16.683757</td>\n",
       "    </tr>\n",
       "    <tr>\n",
       "      <th>2</th>\n",
       "      <td>1475</td>\n",
       "      <td>Li</td>\n",
       "      <td>-204.666601</td>\n",
       "      <td>20.310418</td>\n",
       "    </tr>\n",
       "  </tbody>\n",
       "</table>\n",
       "</div>"
      ],
      "text/plain": [
       "   job_id  name      energy     volume\n",
       "0    1451  AlLi -131.172432  16.118247\n",
       "1    1463    Al  -57.200850  16.683757\n",
       "2    1475    Li -204.666601  20.310418"
      ]
     },
     "execution_count": 39,
     "metadata": {},
     "output_type": "execute_result"
    }
   ],
   "source": [
    "df = table.get_dataframe()\n",
    "df"
   ]
  },
  {
   "cell_type": "code",
   "execution_count": 37,
   "id": "cee0d2f2-e1c8-41c7-a766-3e2d141203fa",
   "metadata": {},
   "outputs": [
    {
     "name": "stdout",
     "output_type": "stream",
     "text": [
      "The job table was saved and received the ID: 1487\n"
     ]
    },
    {
     "data": {
      "application/vnd.jupyter.widget-view+json": {
       "model_id": "2dcd84c22d624cfd8157cd5aa1c03cc1",
       "version_major": 2,
       "version_minor": 0
      },
      "text/plain": [
       "Loading and filtering jobs:   0%|          | 0/37 [00:00<?, ?it/s]"
      ]
     },
     "metadata": {},
     "output_type": "display_data"
    },
    {
     "data": {
      "application/vnd.jupyter.widget-view+json": {
       "model_id": "42d5a7ba06fe4448bea89d9e5ee94c2c",
       "version_major": 2,
       "version_minor": 0
      },
      "text/plain": [
       "  0%|          | 0/3 [00:00<?, ?it/s]"
      ]
     },
     "metadata": {},
     "output_type": "display_data"
    }
   ],
   "source": [
    "table = pr.create.table()\n",
    "table.filter_function = filter_funct\n",
    "table.add[\"name\"] = get_element\n",
    "table.add[\"energy\"] = get_energy\n",
    "table.add[\"volume\"] = get_volume\n",
    "table.convert_to_object = True\n",
    "table.run(delete_existing_job=True)"
   ]
  },
  {
   "cell_type": "markdown",
   "id": "d8a4e2a6-97ee-4c82-85b0-103611efaf0f",
   "metadata": {},
   "source": [
    "# Formation Energy"
   ]
  },
  {
   "cell_type": "code",
   "execution_count": 53,
   "id": "f85e8153-eb1a-4568-9777-676d08263abf",
   "metadata": {},
   "outputs": [
    {
     "data": {
      "text/plain": [
       "array([-0.23870682])"
      ]
     },
     "execution_count": 53,
     "metadata": {},
     "output_type": "execute_result"
    }
   ],
   "source": [
    "(2* df[df[\"name\"]==\"AlLi\"][\"energy\"].values - (1* df[df[\"name\"]==\"Al\"][\"energy\"].values + 1* df[df[\"name\"]==\"Li\"][\"energy\"].values))/2"
   ]
  },
  {
   "cell_type": "markdown",
   "id": "25513e08-6a1a-444a-b1c1-f3258995a3b2",
   "metadata": {},
   "source": [
    "Materials Project: -0.208 eV/atom"
   ]
  },
  {
   "cell_type": "markdown",
   "id": "e4b3592f-f01a-4991-aa6b-3403e20ffc85",
   "metadata": {},
   "source": [
    "# Lattice Constant"
   ]
  },
  {
   "cell_type": "code",
   "execution_count": 60,
   "id": "69fa25da-8c31-439e-9bcd-b89d4c39a295",
   "metadata": {},
   "outputs": [
    {
     "data": {
      "text/plain": [
       "array([4.05618682])"
      ]
     },
     "execution_count": 60,
     "metadata": {},
     "output_type": "execute_result"
    }
   ],
   "source": [
    "(df[df[\"name\"]==\"Al\"][\"volume\"].values * 4) ** (1/3)"
   ]
  },
  {
   "cell_type": "code",
   "execution_count": null,
   "id": "10c1eb92-6715-4795-8487-db5892499489",
   "metadata": {},
   "outputs": [],
   "source": []
  }
 ],
 "metadata": {
  "kernelspec": {
   "display_name": "Python 3 (ipykernel)",
   "language": "python",
   "name": "python3"
  },
  "language_info": {
   "codemirror_mode": {
    "name": "ipython",
    "version": 3
   },
   "file_extension": ".py",
   "mimetype": "text/x-python",
   "name": "python",
   "nbconvert_exporter": "python",
   "pygments_lexer": "ipython3",
   "version": "3.12.5"
  }
 },
 "nbformat": 4,
 "nbformat_minor": 5
}
