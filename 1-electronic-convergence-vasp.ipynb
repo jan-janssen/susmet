{
 "cells": [
  {
   "cell_type": "markdown",
   "id": "e0681d07-a629-4864-ad8e-11596e805c82",
   "metadata": {},
   "source": [
    "# Electronic Convergence\n",
    "In contrast to simulation with interatomic potentials which only consider the interaction of atoms, density functional theory (DFT) leverages the density of electrons to determine the forces between atoms and the energy of a simulation cell. Consequently, the careful threatment of the electronic convergence is essential for high precision DFT calculation. In the following the [VASP](https://www.vasp.at) DFT code is used in combination with [pyiron.org](https://pyiron.org) workflow framework to develop a practical understanding of DFT simulation. "
   ]
  },
  {
   "cell_type": "markdown",
   "id": "7b5250ac-cb0e-48da-a15b-230f15090dac",
   "metadata": {},
   "source": [
    "pyiron is available as open-source software and can be installed from the `conda` package manager using:\n",
    "```\n",
    "conda install -c conda-forge pyiron_atomistics pyiron-data nglview\n",
    "```\n",
    "This command installs the `pyiron_atomistics` package and the `nglview` package to visualise atomistic structures in the jupyter environment. "
   ]
  },
  {
   "cell_type": "markdown",
   "id": "f98ecb09-3ed3-4326-b972-0ee4988dc996",
   "metadata": {},
   "source": [
    "In addition, to the `Project` object from `pyiron_atomistics` also the numerical library `numpy` and the visualization library `matplotlib` are imported. The `Project` object behaves like a folder on the file system and adds the capability to create other `pyiron` objects like atomistic structures and simulation jobs. "
   ]
  },
  {
   "cell_type": "code",
   "execution_count": 1,
   "id": "2154d45b-ded1-4e6f-a41c-3fdb9e890739",
   "metadata": {},
   "outputs": [
    {
     "data": {
      "application/vnd.jupyter.widget-view+json": {
       "model_id": "56e9a22df0ca45a6aec03480fcfc375a",
       "version_major": 2,
       "version_minor": 0
      },
      "text/plain": []
     },
     "metadata": {},
     "output_type": "display_data"
    }
   ],
   "source": [
    "import numpy as np\n",
    "import matplotlib.pyplot as plt \n",
    "from pyiron_atomistics import Project"
   ]
  },
  {
   "cell_type": "markdown",
   "id": "7f61c916-4781-4336-ac13-fac89fb33c22",
   "metadata": {},
   "source": [
    "## Calculation"
   ]
  },
  {
   "cell_type": "markdown",
   "id": "58d5ac90-38de-4cb3-a5a2-5df1f8746181",
   "metadata": {},
   "source": [
    "As a first step the `vasp` folder is created using the `Project` object. To have a clean start all calculations in this folder are removed using the `remove_jobs()` function. This is typically not necessary, but it is a helpful command to restart fresh."
   ]
  },
  {
   "cell_type": "code",
   "execution_count": 2,
   "id": "160e901e-08c2-47f7-adcc-1e28bb4064a8",
   "metadata": {},
   "outputs": [
    {
     "data": {
      "application/vnd.jupyter.widget-view+json": {
       "model_id": "cb984e4f27364127a1768153547828b8",
       "version_major": 2,
       "version_minor": 0
      },
      "text/plain": [
       "0it [00:00, ?it/s]"
      ]
     },
     "metadata": {},
     "output_type": "display_data"
    }
   ],
   "source": [
    "pr = Project(\"vasp\")\n",
    "pr.remove_jobs(recursive=True, silently=True)"
   ]
  },
  {
   "cell_type": "markdown",
   "id": "f5468e0c-83df-4561-92ca-4303fa97d9cd",
   "metadata": {},
   "source": [
    "In the second step, the primitive atomistic structure for Aluminium (Al) is created. In pyiron this is achieved using the `create.structure.ase.bulk()` function of the `Project` object. To help with interactive development, python provides `tab` completion, so by typing `pr.create.` and pressing `tab` you get a list of available objects which can be created from the `Project`. The advantage of creating these objects from the `Project` object is that the path of the `Project` object is then automatically used for data storage, so the `structure` object directly knows it should write any data to the `path` of the `Project` object. You can print the path of the `Project` object using `pr.path`. "
   ]
  },
  {
   "cell_type": "code",
   "execution_count": 3,
   "id": "91a00596-93bc-42f8-817d-7ffb677152f2",
   "metadata": {},
   "outputs": [],
   "source": [
    "structure_Al = pr.create.structure.ase.bulk(\"Al\")"
   ]
  },
  {
   "cell_type": "markdown",
   "id": "0ed3238c-41f0-4fb9-b278-e34c4c4ab40a",
   "metadata": {},
   "source": [
    "Depending on your version of Jupyterlab the `tab` based completion for multiple levels, might be disabled for security reasons, as it could be used to execute code before you pressing `shift+enter`. To enable this functionality again you can use:\n",
    "```\n",
    "%config IPCompleter.greedy=True\n",
    "```\n",
    "Just copy the like to a cell at the beginning of your Jupyter notebook to enable `tab` based completion without any limits. "
   ]
  },
  {
   "cell_type": "markdown",
   "id": "222c16fa-3e74-4fad-a17b-4cb765e28ef1",
   "metadata": {},
   "source": [
    "For validation the structure object can be visualized using the `plot3d()` function, which internally uses `nglview` to visualise the atomic structure in the Jupyter notebook. "
   ]
  },
  {
   "cell_type": "code",
   "execution_count": 4,
   "id": "61f32ed8-1ba3-47a4-9bb1-81845c0b00ae",
   "metadata": {},
   "outputs": [
    {
     "data": {
      "application/vnd.jupyter.widget-view+json": {
       "model_id": "8d029195cadf488daabee6948efdb9ca",
       "version_major": 2,
       "version_minor": 0
      },
      "text/plain": [
       "NGLWidget()"
      ]
     },
     "metadata": {},
     "output_type": "display_data"
    }
   ],
   "source": [
    "structure_Al.plot3d()"
   ]
  },
  {
   "cell_type": "markdown",
   "id": "a73bc12b-46af-4c71-9446-bc32fe3aff9c",
   "metadata": {},
   "source": [
    "After the creation of the `structure` object, the VASP `job` object can be created using the same `create()` function of the project object. After the creation of the `job` object, the `structure` object is assigned. Followed by the specification of the k-point mesh using the `set_kpoints()` function, the energy cutoff using the `set_encut()` function and the electronic convergence criteria using the `set_convergence_precision()` function. Finally, the computational resources can be assigned. In this case only a single computational core is selected, but typically such a calculation would be submitted to a high performance computing (HPC) cluster. Up to this point no data was written to the file system. Only when the `run()` function of the `job` object is executed `pyiron` writes the input files for the VASP DFT simulation code, calls the simulation code and parses the output of the calculation.  "
   ]
  },
  {
   "cell_type": "code",
   "execution_count": 5,
   "id": "b92fdbe9-4aaa-4952-a572-28416b9c8f5b",
   "metadata": {},
   "outputs": [
    {
     "name": "stdout",
     "output_type": "stream",
     "text": [
      "The job vasp was saved and received the ID: 23313931\n"
     ]
    }
   ],
   "source": [
    "job_Al = pr.create.job.Vasp(\"vasp\")\n",
    "\n",
    "# select structure to compute \n",
    "job_Al.structure = structure_Al\n",
    "\n",
    "# specify precision of the DFT calculation \n",
    "job_Al.set_kpoints([2,2,2])\n",
    "job_Al.set_encut(300)\n",
    "job_Al.set_convergence_precision(electronic_energy=10**-10)\n",
    "\n",
    "# define computational resources \n",
    "job_Al.server.cores = 1\n",
    "\n",
    "# execute simulation \n",
    "job_Al.run()"
   ]
  },
  {
   "cell_type": "markdown",
   "id": "e5d548d0-be2c-44a8-a6e8-07188e99d617",
   "metadata": {},
   "source": [
    "## Analysis \n",
    "When the calculation is successfully completed, the next step is to analyse the calculation results. Just like the setup of the calculation, in `pyiron` all these steps can be executed directly from the Jupyter notebook. In this way the Jupyter notebook behaves like a lab book in an experimental lab combining both, the input of the calculation and the output of the calculation in one document. To achieve reproducibility of these simulation protocols, the scientific input and the technical inputs are separated. For this demonstration the technical configuration, was installed in the beginning with the `pyiron-data` package, it contains the link to the SPHInX simulation code installed via conda, to allow new users to start right away. The scientific input is written in this notebook. In this way the notebook can be copied from one `pyiron` installation to another and still works as expected. "
   ]
  },
  {
   "cell_type": "markdown",
   "id": "7d61ec7e-e183-4d99-a287-c2c7c6f8e071",
   "metadata": {},
   "source": [
    "In addition to the separation of technical and scientific configuration, it is typically also helpful to separate the setup of the calculation and the analysis. Especially in cases when the individual calculation take multiple days or even weeks. In this example the cells below can be executed independent of the calculation section. As a first step the previous calculation named `\"vasp\"` is reloaded using the `load()` function of the `Project` object and the electronic energy is aggegated in the `eng_lst`. "
   ]
  },
  {
   "cell_type": "code",
   "execution_count": 6,
   "id": "f92f8407-3eef-41c5-8ade-76c43ecaf018",
   "metadata": {},
   "outputs": [],
   "source": [
    "pr = Project(\"vasp\")\n",
    "eng_lst = np.array(pr.load(\"vasp\")[\"output/generic/dft/scf_energy_free\"]).flatten()"
   ]
  },
  {
   "cell_type": "markdown",
   "id": "d5b6cb2a-55a5-4c8b-9179-f34ebd32603f",
   "metadata": {},
   "source": [
    "It is important to mention that both the commands to setup the VASP calculation, as well as the commands used to analyse the output of the VASP calculation are independent of the specific simulation code. Basically, the same workflow would work with the other DFT codes, as `pyiron` provides an abstract generic interface to different DFT codes to unify their interfaces."
   ]
  },
  {
   "cell_type": "markdown",
   "id": "d0c82b36-0071-43c5-8bb2-db3b7b7bb7c4",
   "metadata": {},
   "source": [
    "The electronic energy is plotted over the number of electronic steps with the energy on the y-axis and the number of electronic steps on the x-axis."
   ]
  },
  {
   "cell_type": "code",
   "execution_count": 7,
   "id": "9a486263-29c3-4da8-8461-77df174d3dd2",
   "metadata": {},
   "outputs": [
    {
     "data": {
      "text/plain": [
       "Text(0, 0.5, 'Energy (eV)')"
      ]
     },
     "execution_count": 7,
     "metadata": {},
     "output_type": "execute_result"
    },
    {
     "data": {
      "image/png": "[encoded data removed]",
      "text/plain": [
       "<Figure size 640x480 with 1 Axes>"
      ]
     },
     "metadata": {},
     "output_type": "display_data"
    }
   ],
   "source": [
    "plt.plot(eng_lst)\n",
    "plt.xlabel(\"Electronic Convergence Steps\")\n",
    "plt.ylabel(\"Energy (eV)\")"
   ]
  },
  {
   "cell_type": "markdown",
   "id": "46768ee2-4dae-4a40-ad64-dc080de45fef",
   "metadata": {},
   "source": [
    "The calculation seems to be converged after the first electronic step with only minimal changes afterwards. But this impression is caused by the misleading representation of the data. If we subtract the full converged energy at the last electronic steps `eng_lst[-1]` from all other energies and take the absolute of this difference `np.abs()` then we can plot is on a semi-logarithmic scale. This highlights the logarithmic convergence of the electronic structure, nearly linear with the number of steps in the semi-logarithmic plot. "
   ]
  },
  {
   "cell_type": "code",
   "execution_count": 8,
   "id": "a76b4378-f28f-4427-848a-cf87dc0fb268",
   "metadata": {},
   "outputs": [
    {
     "data": {
      "image/png": "[encoded data removed]",
      "text/plain": [
       "<Figure size 640x480 with 1 Axes>"
      ]
     },
     "metadata": {},
     "output_type": "display_data"
    }
   ],
   "source": [
    "plt.plot(np.abs(eng_lst-eng_lst[-1]))\n",
    "plt.xlabel(\"Electronic Convergence Steps\")\n",
    "plt.ylabel(\"$\\Delta$ Energy (eV)\")\n",
    "plt.yscale(\"log\")"
   ]
  },
  {
   "cell_type": "markdown",
   "id": "efbe5c43-ca35-4e27-a0d2-b35866f5b49e",
   "metadata": {},
   "source": [
    "This example demonstrates that determening if a calculation is converged or not always depends on the convergence goal. A convergence of $10^{-3}$ is already achived at the second electronic step while a convergence of $10^{-7}$ in this case requires three electronic steps and so on. "
   ]
  },
  {
   "cell_type": "markdown",
   "id": "3af1780c-f54f-40f1-a377-0021fd7341af",
   "metadata": {},
   "source": [
    "## Job Management\n",
    "In the background `pyiron` uses an Structured Query Language (SQL) database to keep track of the currently running and completed calculation. This has the advantage that old calculation can be reloaded using the `load()` function of the `Project` object. Still it can also lead to confusion in the beginning when users try to update the input parameter of an existing calculation. The easiest way is to delete all calculation in a given `Project` using the `remove_jobs()` function as demonstrated in the beginning. Alternatively the `job` object can be reloaded and removed individually by calling the `remove()` function on the `job` object. Or to compare multiple calculation the user can simply choose a `job_name` different from `\"spx\"`. To get an overview or all `job` objects in a given project `pyiron` provides the `job_table()` function of the `Project` object. "
   ]
  },
  {
   "cell_type": "code",
   "execution_count": 9,
   "id": "178f4604-1ca4-495e-8869-76edc1d78729",
   "metadata": {},
   "outputs": [
    {
     "data": {
      "text/html": [
       "<div>\n",
       "<style scoped>\n",
       "    .dataframe tbody tr th:only-of-type {\n",
       "        vertical-align: middle;\n",
       "    }\n",
       "\n",
       "    .dataframe tbody tr th {\n",
       "        vertical-align: top;\n",
       "    }\n",
       "\n",
       "    .dataframe thead th {\n",
       "        text-align: right;\n",
       "    }\n",
       "</style>\n",
       "<table border=\"1\" class=\"dataframe\">\n",
       "  <thead>\n",
       "    <tr style=\"text-align: right;\">\n",
       "      <th></th>\n",
       "      <th>id</th>\n",
       "      <th>status</th>\n",
       "      <th>chemicalformula</th>\n",
       "      <th>job</th>\n",
       "      <th>subjob</th>\n",
       "      <th>projectpath</th>\n",
       "      <th>project</th>\n",
       "      <th>timestart</th>\n",
       "      <th>timestop</th>\n",
       "      <th>totalcputime</th>\n",
       "      <th>computer</th>\n",
       "      <th>hamilton</th>\n",
       "      <th>hamversion</th>\n",
       "      <th>parentid</th>\n",
       "      <th>masterid</th>\n",
       "    </tr>\n",
       "  </thead>\n",
       "  <tbody>\n",
       "    <tr>\n",
       "      <th>0</th>\n",
       "      <td>23313931</td>\n",
       "      <td>finished</td>\n",
       "      <td>Al</td>\n",
       "      <td>vasp</td>\n",
       "      <td>/vasp</td>\n",
       "      <td>/cmmc/u/</td>\n",
       "      <td>janj/notebooks/2024/2023-08-26-debug-vasp/vasp/</td>\n",
       "      <td>2024-09-05 15:34:45.386969</td>\n",
       "      <td>2024-09-05 15:34:46.943127</td>\n",
       "      <td>1.0</td>\n",
       "      <td>janj@cmti001#1</td>\n",
       "      <td>Vasp</td>\n",
       "      <td>5.4.4</td>\n",
       "      <td>None</td>\n",
       "      <td>None</td>\n",
       "    </tr>\n",
       "  </tbody>\n",
       "</table>\n",
       "</div>"
      ],
      "text/plain": [
       "         id    status chemicalformula   job subjob projectpath  \\\n",
       "0  23313931  finished              Al  vasp  /vasp    /cmmc/u/   \n",
       "\n",
       "                                           project                  timestart  \\\n",
       "0  janj/notebooks/2024/2023-08-26-debug-vasp/vasp/ 2024-09-05 15:34:45.386969   \n",
       "\n",
       "                    timestop  totalcputime        computer hamilton  \\\n",
       "0 2024-09-05 15:34:46.943127           1.0  janj@cmti001#1     Vasp   \n",
       "\n",
       "  hamversion parentid masterid  \n",
       "0      5.4.4     None     None  "
      ]
     },
     "execution_count": 9,
     "metadata": {},
     "output_type": "execute_result"
    }
   ],
   "source": [
    "pr.job_table()"
   ]
  },
  {
   "cell_type": "markdown",
   "id": "264e8c74-bbec-42d9-9553-c17fd960d2f0",
   "metadata": {},
   "source": [
    "## Conclusion\n",
    "While for bulk structures electronic convergence is quickly achieved, for more complex chemical structures, surfaces or defects electronic convergence can be much more challenging. So it is important to carefully check the electronic convergence for every calculation."
   ]
  },
  {
   "cell_type": "code",
   "execution_count": null,
   "id": "9d4c5044-5e51-4f62-acfe-a65ea0eb9bc6",
   "metadata": {},
   "outputs": [],
   "source": []
  }
 ],
 "metadata": {
  "kernelspec": {
   "display_name": "pyiron/latest (python3.11)",
   "language": "python",
   "name": "python3"
  },
  "language_info": {
   "codemirror_mode": {
    "name": "ipython",
    "version": 3
   },
   "file_extension": ".py",
   "mimetype": "text/x-python",
   "name": "python",
   "nbconvert_exporter": "python",
   "pygments_lexer": "ipython3",
   "version": "3.11.6"
  }
 },
 "nbformat": 4,
 "nbformat_minor": 5
}
